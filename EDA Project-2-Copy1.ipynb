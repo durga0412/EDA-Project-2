{
 "cells": [
  {
   "cell_type": "markdown",
   "id": "04615c13",
   "metadata": {},
   "source": [
    "<font size=\"5\">**Exploratory Data Analysis**</font>"
   ]
  },
  {
   "cell_type": "markdown",
   "id": "d0497729",
   "metadata": {},
   "source": [
    "The dataset consists of historical sales data of an Electronics shop where 20 different products are being sold in different number of quantity from january 2019 to september 2019."
   ]
  },
  {
   "cell_type": "markdown",
   "id": "44eaa550",
   "metadata": {},
   "source": [
    "## Objective\n",
    "\n",
    "1. Load the dataset into pandas and provide a summary of columns in the loaded dataset without any modification.\n",
    "2. Prepare the data frame for further analysis. Clean it, mold it in any manner you see fit.\n",
    "3. Provide a summary of the cleaned dataset along with some preliminary analysis and contrast it with the uncleaned dataset wherever modifications are made.\n",
    "\n",
    "4. Answer the following questions using the clean dataset by plotting suitable graphs:\n",
    "  \n",
    "  a. What is the distribution of sales among different cities in different months?\n",
    " \n",
    "  b. Which city had the highest sales overall?\n",
    "\n",
    "  c. Which Month had the highest amount of sales overall?\n",
    "\n",
    "  d. Most bought products per city.\n",
    "\n",
    "Based on your analysis, suggest a city for establishing a new branch for the retail store backed with proper reasoning.\n",
    "\n",
    "5. Find out the distribution of sales over different times of the day (Morning, Afternoon, Evening, Night) \n",
    "\n",
    "Based on your analysis, suggest the best working hours and for the retail store.\n",
    "\n",
    "6. Find out the pair of products that are most sold together. For example, generally, we would expect a person who buys an iPhone 11 to also buy the Apple Airpods together with it. Identify such pairs of products and suggest what promotional offers should the retail company come up with based on your outcome."
   ]
  },
  {
   "cell_type": "markdown",
   "id": "1a31864d",
   "metadata": {},
   "source": [
    "**1. Load the dataset into pandas and provide a summary of columns in the loaded dataset without any modification.**"
   ]
  },
  {
   "cell_type": "code",
   "execution_count": 35,
   "id": "59a07741",
   "metadata": {},
   "outputs": [],
   "source": [
    "#Importing the required libraries\n",
    "import pandas as pd \n",
    "import numpy as np\n",
    "import matplotlib.pyplot as plt\n",
    "import seaborn as sns\n",
    "import warnings\n",
    "warnings.filterwarnings('ignore')"
   ]
  },
  {
   "cell_type": "code",
   "execution_count": 36,
   "id": "08054f5e",
   "metadata": {
    "scrolled": true
   },
   "outputs": [
    {
     "data": {
      "text/html": [
       "<div>\n",
       "<style scoped>\n",
       "    .dataframe tbody tr th:only-of-type {\n",
       "        vertical-align: middle;\n",
       "    }\n",
       "\n",
       "    .dataframe tbody tr th {\n",
       "        vertical-align: top;\n",
       "    }\n",
       "\n",
       "    .dataframe thead th {\n",
       "        text-align: right;\n",
       "    }\n",
       "</style>\n",
       "<table border=\"1\" class=\"dataframe\">\n",
       "  <thead>\n",
       "    <tr style=\"text-align: right;\">\n",
       "      <th></th>\n",
       "      <th>Order ID</th>\n",
       "      <th>Product</th>\n",
       "      <th>Quantity Ordered</th>\n",
       "      <th>Price Each</th>\n",
       "      <th>Order Date</th>\n",
       "      <th>Purchase Address</th>\n",
       "    </tr>\n",
       "  </thead>\n",
       "  <tbody>\n",
       "    <tr>\n",
       "      <th>0</th>\n",
       "      <td>141234</td>\n",
       "      <td>iPhone</td>\n",
       "      <td>1</td>\n",
       "      <td>700</td>\n",
       "      <td>01/22/19 21:25</td>\n",
       "      <td>944 Walnut St, Boston, MA 02215</td>\n",
       "    </tr>\n",
       "    <tr>\n",
       "      <th>1</th>\n",
       "      <td>141235</td>\n",
       "      <td>Lightning Charging Cable</td>\n",
       "      <td>1</td>\n",
       "      <td>14.95</td>\n",
       "      <td>01/28/19 14:15</td>\n",
       "      <td>185 Maple St, Portland, OR 97035</td>\n",
       "    </tr>\n",
       "    <tr>\n",
       "      <th>2</th>\n",
       "      <td>141236</td>\n",
       "      <td>Wired Headphones</td>\n",
       "      <td>2</td>\n",
       "      <td>11.99</td>\n",
       "      <td>01/17/19 13:33</td>\n",
       "      <td>538 Adams St, San Francisco, CA 94016</td>\n",
       "    </tr>\n",
       "    <tr>\n",
       "      <th>3</th>\n",
       "      <td>141237</td>\n",
       "      <td>27in FHD Monitor</td>\n",
       "      <td>1</td>\n",
       "      <td>149.99</td>\n",
       "      <td>01/05/19 20:33</td>\n",
       "      <td>738 10th St, Los Angeles, CA 90001</td>\n",
       "    </tr>\n",
       "    <tr>\n",
       "      <th>4</th>\n",
       "      <td>141238</td>\n",
       "      <td>Wired Headphones</td>\n",
       "      <td>1</td>\n",
       "      <td>11.99</td>\n",
       "      <td>01/25/19 11:59</td>\n",
       "      <td>387 10th St, Austin, TX 73301</td>\n",
       "    </tr>\n",
       "    <tr>\n",
       "      <th>...</th>\n",
       "      <td>...</td>\n",
       "      <td>...</td>\n",
       "      <td>...</td>\n",
       "      <td>...</td>\n",
       "      <td>...</td>\n",
       "      <td>...</td>\n",
       "    </tr>\n",
       "    <tr>\n",
       "      <th>373695</th>\n",
       "      <td>259353</td>\n",
       "      <td>AAA Batteries (4-pack)</td>\n",
       "      <td>3</td>\n",
       "      <td>2.99</td>\n",
       "      <td>09/17/19 20:56</td>\n",
       "      <td>840 Highland St, Los Angeles, CA 90001</td>\n",
       "    </tr>\n",
       "    <tr>\n",
       "      <th>373696</th>\n",
       "      <td>259354</td>\n",
       "      <td>iPhone</td>\n",
       "      <td>1</td>\n",
       "      <td>700</td>\n",
       "      <td>09/01/19 16:00</td>\n",
       "      <td>216 Dogwood St, San Francisco, CA 94016</td>\n",
       "    </tr>\n",
       "    <tr>\n",
       "      <th>373697</th>\n",
       "      <td>259355</td>\n",
       "      <td>iPhone</td>\n",
       "      <td>1</td>\n",
       "      <td>700</td>\n",
       "      <td>09/23/19 07:39</td>\n",
       "      <td>220 12th St, San Francisco, CA 94016</td>\n",
       "    </tr>\n",
       "    <tr>\n",
       "      <th>373698</th>\n",
       "      <td>259356</td>\n",
       "      <td>34in Ultrawide Monitor</td>\n",
       "      <td>1</td>\n",
       "      <td>379.99</td>\n",
       "      <td>09/19/19 17:30</td>\n",
       "      <td>511 Forest St, San Francisco, CA 94016</td>\n",
       "    </tr>\n",
       "    <tr>\n",
       "      <th>373699</th>\n",
       "      <td>259357</td>\n",
       "      <td>USB-C Charging Cable</td>\n",
       "      <td>1</td>\n",
       "      <td>11.95</td>\n",
       "      <td>09/30/19 00:18</td>\n",
       "      <td>250 Meadow St, San Francisco, CA 94016</td>\n",
       "    </tr>\n",
       "  </tbody>\n",
       "</table>\n",
       "<p>373700 rows × 6 columns</p>\n",
       "</div>"
      ],
      "text/plain": [
       "       Order ID                   Product Quantity Ordered Price Each  \\\n",
       "0        141234                    iPhone                1        700   \n",
       "1        141235  Lightning Charging Cable                1      14.95   \n",
       "2        141236          Wired Headphones                2      11.99   \n",
       "3        141237          27in FHD Monitor                1     149.99   \n",
       "4        141238          Wired Headphones                1      11.99   \n",
       "...         ...                       ...              ...        ...   \n",
       "373695   259353    AAA Batteries (4-pack)                3       2.99   \n",
       "373696   259354                    iPhone                1        700   \n",
       "373697   259355                    iPhone                1        700   \n",
       "373698   259356    34in Ultrawide Monitor                1     379.99   \n",
       "373699   259357      USB-C Charging Cable                1      11.95   \n",
       "\n",
       "            Order Date                         Purchase Address  \n",
       "0       01/22/19 21:25          944 Walnut St, Boston, MA 02215  \n",
       "1       01/28/19 14:15         185 Maple St, Portland, OR 97035  \n",
       "2       01/17/19 13:33    538 Adams St, San Francisco, CA 94016  \n",
       "3       01/05/19 20:33       738 10th St, Los Angeles, CA 90001  \n",
       "4       01/25/19 11:59            387 10th St, Austin, TX 73301  \n",
       "...                ...                                      ...  \n",
       "373695  09/17/19 20:56   840 Highland St, Los Angeles, CA 90001  \n",
       "373696  09/01/19 16:00  216 Dogwood St, San Francisco, CA 94016  \n",
       "373697  09/23/19 07:39     220 12th St, San Francisco, CA 94016  \n",
       "373698  09/19/19 17:30   511 Forest St, San Francisco, CA 94016  \n",
       "373699  09/30/19 00:18   250 Meadow St, San Francisco, CA 94016  \n",
       "\n",
       "[373700 rows x 6 columns]"
      ]
     },
     "execution_count": 36,
     "metadata": {},
     "output_type": "execute_result"
    }
   ],
   "source": [
    "#loading the data set\n",
    "raw_data = pd.read_csv(r\"C:\\Users\\DELL\\Desktop\\data\\all_data_copy.csv\") #reading the dataset\n",
    "raw_data"
   ]
  },
  {
   "cell_type": "markdown",
   "id": "196a2a68",
   "metadata": {},
   "source": [
    "Summary of the variables and the variable description is given below:\n",
    "\n",
    "1. Order ID:           Computer generated Order ID of a particular purchase\n",
    "2. Product:            Product being purchased\n",
    "3. Quantity Ordered:   Number of Quantity purchased by customer\n",
    "4. Price Each:         Price of each product in $\n",
    "5. Order Date:         Date and time of the item purchased from january 2019 to september 2019\n",
    "6. Purchase Address:   Customer's address who purchased"
   ]
  },
  {
   "cell_type": "markdown",
   "id": "b1d320db",
   "metadata": {},
   "source": [
    "**2. Prepare the data frame for further analysis. Clean it, mold it in any manner you see fit.**"
   ]
  },
  {
   "cell_type": "code",
   "execution_count": 37,
   "id": "603388b6",
   "metadata": {},
   "outputs": [],
   "source": [
    "#Creating a copy of data to work on\n",
    "df = raw_data.copy()"
   ]
  },
  {
   "cell_type": "code",
   "execution_count": 38,
   "id": "ee99daee",
   "metadata": {},
   "outputs": [
    {
     "data": {
      "text/html": [
       "<div>\n",
       "<style scoped>\n",
       "    .dataframe tbody tr th:only-of-type {\n",
       "        vertical-align: middle;\n",
       "    }\n",
       "\n",
       "    .dataframe tbody tr th {\n",
       "        vertical-align: top;\n",
       "    }\n",
       "\n",
       "    .dataframe thead th {\n",
       "        text-align: right;\n",
       "    }\n",
       "</style>\n",
       "<table border=\"1\" class=\"dataframe\">\n",
       "  <thead>\n",
       "    <tr style=\"text-align: right;\">\n",
       "      <th></th>\n",
       "      <th>Order ID</th>\n",
       "      <th>Product</th>\n",
       "      <th>Quantity Ordered</th>\n",
       "      <th>Price Each</th>\n",
       "      <th>Order Date</th>\n",
       "      <th>Purchase Address</th>\n",
       "    </tr>\n",
       "  </thead>\n",
       "  <tbody>\n",
       "    <tr>\n",
       "      <th>0</th>\n",
       "      <td>141234</td>\n",
       "      <td>iPhone</td>\n",
       "      <td>1</td>\n",
       "      <td>700</td>\n",
       "      <td>01/22/19 21:25</td>\n",
       "      <td>944 Walnut St, Boston, MA 02215</td>\n",
       "    </tr>\n",
       "    <tr>\n",
       "      <th>1</th>\n",
       "      <td>141235</td>\n",
       "      <td>Lightning Charging Cable</td>\n",
       "      <td>1</td>\n",
       "      <td>14.95</td>\n",
       "      <td>01/28/19 14:15</td>\n",
       "      <td>185 Maple St, Portland, OR 97035</td>\n",
       "    </tr>\n",
       "    <tr>\n",
       "      <th>2</th>\n",
       "      <td>141236</td>\n",
       "      <td>Wired Headphones</td>\n",
       "      <td>2</td>\n",
       "      <td>11.99</td>\n",
       "      <td>01/17/19 13:33</td>\n",
       "      <td>538 Adams St, San Francisco, CA 94016</td>\n",
       "    </tr>\n",
       "    <tr>\n",
       "      <th>3</th>\n",
       "      <td>141237</td>\n",
       "      <td>27in FHD Monitor</td>\n",
       "      <td>1</td>\n",
       "      <td>149.99</td>\n",
       "      <td>01/05/19 20:33</td>\n",
       "      <td>738 10th St, Los Angeles, CA 90001</td>\n",
       "    </tr>\n",
       "    <tr>\n",
       "      <th>4</th>\n",
       "      <td>141238</td>\n",
       "      <td>Wired Headphones</td>\n",
       "      <td>1</td>\n",
       "      <td>11.99</td>\n",
       "      <td>01/25/19 11:59</td>\n",
       "      <td>387 10th St, Austin, TX 73301</td>\n",
       "    </tr>\n",
       "    <tr>\n",
       "      <th>5</th>\n",
       "      <td>141239</td>\n",
       "      <td>AAA Batteries (4-pack)</td>\n",
       "      <td>1</td>\n",
       "      <td>2.99</td>\n",
       "      <td>01/29/19 20:22</td>\n",
       "      <td>775 Willow St, San Francisco, CA 94016</td>\n",
       "    </tr>\n",
       "    <tr>\n",
       "      <th>6</th>\n",
       "      <td>141240</td>\n",
       "      <td>27in 4K Gaming Monitor</td>\n",
       "      <td>1</td>\n",
       "      <td>389.99</td>\n",
       "      <td>01/26/19 12:16</td>\n",
       "      <td>979 Park St, Los Angeles, CA 90001</td>\n",
       "    </tr>\n",
       "    <tr>\n",
       "      <th>7</th>\n",
       "      <td>141241</td>\n",
       "      <td>USB-C Charging Cable</td>\n",
       "      <td>1</td>\n",
       "      <td>11.95</td>\n",
       "      <td>01/05/19 12:04</td>\n",
       "      <td>181 6th St, San Francisco, CA 94016</td>\n",
       "    </tr>\n",
       "    <tr>\n",
       "      <th>8</th>\n",
       "      <td>141242</td>\n",
       "      <td>Bose SoundSport Headphones</td>\n",
       "      <td>1</td>\n",
       "      <td>99.99</td>\n",
       "      <td>01/01/19 10:30</td>\n",
       "      <td>867 Willow St, Los Angeles, CA 90001</td>\n",
       "    </tr>\n",
       "    <tr>\n",
       "      <th>9</th>\n",
       "      <td>141243</td>\n",
       "      <td>Apple Airpods Headphones</td>\n",
       "      <td>1</td>\n",
       "      <td>150</td>\n",
       "      <td>01/22/19 21:20</td>\n",
       "      <td>657 Johnson St, San Francisco, CA 94016</td>\n",
       "    </tr>\n",
       "  </tbody>\n",
       "</table>\n",
       "</div>"
      ],
      "text/plain": [
       "  Order ID                     Product Quantity Ordered Price Each  \\\n",
       "0   141234                      iPhone                1        700   \n",
       "1   141235    Lightning Charging Cable                1      14.95   \n",
       "2   141236            Wired Headphones                2      11.99   \n",
       "3   141237            27in FHD Monitor                1     149.99   \n",
       "4   141238            Wired Headphones                1      11.99   \n",
       "5   141239      AAA Batteries (4-pack)                1       2.99   \n",
       "6   141240      27in 4K Gaming Monitor                1     389.99   \n",
       "7   141241        USB-C Charging Cable                1      11.95   \n",
       "8   141242  Bose SoundSport Headphones                1      99.99   \n",
       "9   141243    Apple Airpods Headphones                1        150   \n",
       "\n",
       "       Order Date                         Purchase Address  \n",
       "0  01/22/19 21:25          944 Walnut St, Boston, MA 02215  \n",
       "1  01/28/19 14:15         185 Maple St, Portland, OR 97035  \n",
       "2  01/17/19 13:33    538 Adams St, San Francisco, CA 94016  \n",
       "3  01/05/19 20:33       738 10th St, Los Angeles, CA 90001  \n",
       "4  01/25/19 11:59            387 10th St, Austin, TX 73301  \n",
       "5  01/29/19 20:22   775 Willow St, San Francisco, CA 94016  \n",
       "6  01/26/19 12:16       979 Park St, Los Angeles, CA 90001  \n",
       "7  01/05/19 12:04      181 6th St, San Francisco, CA 94016  \n",
       "8  01/01/19 10:30     867 Willow St, Los Angeles, CA 90001  \n",
       "9  01/22/19 21:20  657 Johnson St, San Francisco, CA 94016  "
      ]
     },
     "execution_count": 38,
     "metadata": {},
     "output_type": "execute_result"
    }
   ],
   "source": [
    "df.head(10) #Getting first ten rows "
   ]
  },
  {
   "cell_type": "code",
   "execution_count": 39,
   "id": "13b92c93",
   "metadata": {},
   "outputs": [
    {
     "data": {
      "text/html": [
       "<div>\n",
       "<style scoped>\n",
       "    .dataframe tbody tr th:only-of-type {\n",
       "        vertical-align: middle;\n",
       "    }\n",
       "\n",
       "    .dataframe tbody tr th {\n",
       "        vertical-align: top;\n",
       "    }\n",
       "\n",
       "    .dataframe thead th {\n",
       "        text-align: right;\n",
       "    }\n",
       "</style>\n",
       "<table border=\"1\" class=\"dataframe\">\n",
       "  <thead>\n",
       "    <tr style=\"text-align: right;\">\n",
       "      <th></th>\n",
       "      <th>Order ID</th>\n",
       "      <th>Product</th>\n",
       "      <th>Quantity Ordered</th>\n",
       "      <th>Price Each</th>\n",
       "      <th>Order Date</th>\n",
       "      <th>Purchase Address</th>\n",
       "    </tr>\n",
       "  </thead>\n",
       "  <tbody>\n",
       "    <tr>\n",
       "      <th>373690</th>\n",
       "      <td>259349</td>\n",
       "      <td>AAA Batteries (4-pack)</td>\n",
       "      <td>1</td>\n",
       "      <td>2.99</td>\n",
       "      <td>09/01/19 22:14</td>\n",
       "      <td>911 River St, Dallas, TX 75001</td>\n",
       "    </tr>\n",
       "    <tr>\n",
       "      <th>373691</th>\n",
       "      <td>259350</td>\n",
       "      <td>Google Phone</td>\n",
       "      <td>1</td>\n",
       "      <td>600</td>\n",
       "      <td>09/30/19 13:49</td>\n",
       "      <td>519 Maple St, San Francisco, CA 94016</td>\n",
       "    </tr>\n",
       "    <tr>\n",
       "      <th>373692</th>\n",
       "      <td>259350</td>\n",
       "      <td>USB-C Charging Cable</td>\n",
       "      <td>1</td>\n",
       "      <td>11.95</td>\n",
       "      <td>09/30/19 13:49</td>\n",
       "      <td>519 Maple St, San Francisco, CA 94016</td>\n",
       "    </tr>\n",
       "    <tr>\n",
       "      <th>373693</th>\n",
       "      <td>259351</td>\n",
       "      <td>Apple Airpods Headphones</td>\n",
       "      <td>1</td>\n",
       "      <td>150</td>\n",
       "      <td>09/01/19 19:43</td>\n",
       "      <td>981 4th St, New York City, NY 10001</td>\n",
       "    </tr>\n",
       "    <tr>\n",
       "      <th>373694</th>\n",
       "      <td>259352</td>\n",
       "      <td>USB-C Charging Cable</td>\n",
       "      <td>1</td>\n",
       "      <td>11.95</td>\n",
       "      <td>09/07/19 15:49</td>\n",
       "      <td>976 Forest St, San Francisco, CA 94016</td>\n",
       "    </tr>\n",
       "    <tr>\n",
       "      <th>373695</th>\n",
       "      <td>259353</td>\n",
       "      <td>AAA Batteries (4-pack)</td>\n",
       "      <td>3</td>\n",
       "      <td>2.99</td>\n",
       "      <td>09/17/19 20:56</td>\n",
       "      <td>840 Highland St, Los Angeles, CA 90001</td>\n",
       "    </tr>\n",
       "    <tr>\n",
       "      <th>373696</th>\n",
       "      <td>259354</td>\n",
       "      <td>iPhone</td>\n",
       "      <td>1</td>\n",
       "      <td>700</td>\n",
       "      <td>09/01/19 16:00</td>\n",
       "      <td>216 Dogwood St, San Francisco, CA 94016</td>\n",
       "    </tr>\n",
       "    <tr>\n",
       "      <th>373697</th>\n",
       "      <td>259355</td>\n",
       "      <td>iPhone</td>\n",
       "      <td>1</td>\n",
       "      <td>700</td>\n",
       "      <td>09/23/19 07:39</td>\n",
       "      <td>220 12th St, San Francisco, CA 94016</td>\n",
       "    </tr>\n",
       "    <tr>\n",
       "      <th>373698</th>\n",
       "      <td>259356</td>\n",
       "      <td>34in Ultrawide Monitor</td>\n",
       "      <td>1</td>\n",
       "      <td>379.99</td>\n",
       "      <td>09/19/19 17:30</td>\n",
       "      <td>511 Forest St, San Francisco, CA 94016</td>\n",
       "    </tr>\n",
       "    <tr>\n",
       "      <th>373699</th>\n",
       "      <td>259357</td>\n",
       "      <td>USB-C Charging Cable</td>\n",
       "      <td>1</td>\n",
       "      <td>11.95</td>\n",
       "      <td>09/30/19 00:18</td>\n",
       "      <td>250 Meadow St, San Francisco, CA 94016</td>\n",
       "    </tr>\n",
       "  </tbody>\n",
       "</table>\n",
       "</div>"
      ],
      "text/plain": [
       "       Order ID                   Product Quantity Ordered Price Each  \\\n",
       "373690   259349    AAA Batteries (4-pack)                1       2.99   \n",
       "373691   259350              Google Phone                1        600   \n",
       "373692   259350      USB-C Charging Cable                1      11.95   \n",
       "373693   259351  Apple Airpods Headphones                1        150   \n",
       "373694   259352      USB-C Charging Cable                1      11.95   \n",
       "373695   259353    AAA Batteries (4-pack)                3       2.99   \n",
       "373696   259354                    iPhone                1        700   \n",
       "373697   259355                    iPhone                1        700   \n",
       "373698   259356    34in Ultrawide Monitor                1     379.99   \n",
       "373699   259357      USB-C Charging Cable                1      11.95   \n",
       "\n",
       "            Order Date                         Purchase Address  \n",
       "373690  09/01/19 22:14           911 River St, Dallas, TX 75001  \n",
       "373691  09/30/19 13:49    519 Maple St, San Francisco, CA 94016  \n",
       "373692  09/30/19 13:49    519 Maple St, San Francisco, CA 94016  \n",
       "373693  09/01/19 19:43      981 4th St, New York City, NY 10001  \n",
       "373694  09/07/19 15:49   976 Forest St, San Francisco, CA 94016  \n",
       "373695  09/17/19 20:56   840 Highland St, Los Angeles, CA 90001  \n",
       "373696  09/01/19 16:00  216 Dogwood St, San Francisco, CA 94016  \n",
       "373697  09/23/19 07:39     220 12th St, San Francisco, CA 94016  \n",
       "373698  09/19/19 17:30   511 Forest St, San Francisco, CA 94016  \n",
       "373699  09/30/19 00:18   250 Meadow St, San Francisco, CA 94016  "
      ]
     },
     "execution_count": 39,
     "metadata": {},
     "output_type": "execute_result"
    }
   ],
   "source": [
    "df.tail(10) #Getting last ten rows "
   ]
  },
  {
   "cell_type": "code",
   "execution_count": 40,
   "id": "3a7cecc9",
   "metadata": {},
   "outputs": [
    {
     "data": {
      "text/html": [
       "<div>\n",
       "<style scoped>\n",
       "    .dataframe tbody tr th:only-of-type {\n",
       "        vertical-align: middle;\n",
       "    }\n",
       "\n",
       "    .dataframe tbody tr th {\n",
       "        vertical-align: top;\n",
       "    }\n",
       "\n",
       "    .dataframe thead th {\n",
       "        text-align: right;\n",
       "    }\n",
       "</style>\n",
       "<table border=\"1\" class=\"dataframe\">\n",
       "  <thead>\n",
       "    <tr style=\"text-align: right;\">\n",
       "      <th></th>\n",
       "      <th>Order ID</th>\n",
       "      <th>Product</th>\n",
       "      <th>Quantity Ordered</th>\n",
       "      <th>Price Each</th>\n",
       "      <th>Order Date</th>\n",
       "      <th>Purchase Address</th>\n",
       "    </tr>\n",
       "  </thead>\n",
       "  <tbody>\n",
       "    <tr>\n",
       "      <th>count</th>\n",
       "      <td>372610</td>\n",
       "      <td>372610</td>\n",
       "      <td>372610</td>\n",
       "      <td>372610</td>\n",
       "      <td>372610</td>\n",
       "      <td>372610</td>\n",
       "    </tr>\n",
       "    <tr>\n",
       "      <th>unique</th>\n",
       "      <td>178438</td>\n",
       "      <td>20</td>\n",
       "      <td>10</td>\n",
       "      <td>24</td>\n",
       "      <td>142396</td>\n",
       "      <td>140788</td>\n",
       "    </tr>\n",
       "    <tr>\n",
       "      <th>top</th>\n",
       "      <td>Order ID</td>\n",
       "      <td>USB-C Charging Cable</td>\n",
       "      <td>1</td>\n",
       "      <td>11.95</td>\n",
       "      <td>Order Date</td>\n",
       "      <td>Purchase Address</td>\n",
       "    </tr>\n",
       "    <tr>\n",
       "      <th>freq</th>\n",
       "      <td>710</td>\n",
       "      <td>43806</td>\n",
       "      <td>337104</td>\n",
       "      <td>43806</td>\n",
       "      <td>710</td>\n",
       "      <td>710</td>\n",
       "    </tr>\n",
       "  </tbody>\n",
       "</table>\n",
       "</div>"
      ],
      "text/plain": [
       "        Order ID               Product Quantity Ordered Price Each  \\\n",
       "count     372610                372610           372610     372610   \n",
       "unique    178438                    20               10         24   \n",
       "top     Order ID  USB-C Charging Cable                1      11.95   \n",
       "freq         710                 43806           337104      43806   \n",
       "\n",
       "        Order Date  Purchase Address  \n",
       "count       372610            372610  \n",
       "unique      142396            140788  \n",
       "top     Order Date  Purchase Address  \n",
       "freq           710               710  "
      ]
     },
     "execution_count": 40,
     "metadata": {},
     "output_type": "execute_result"
    }
   ],
   "source": [
    "df.describe() #Finding the mean, max, min, and std deviation"
   ]
  },
  {
   "cell_type": "code",
   "execution_count": 41,
   "id": "ee739e50",
   "metadata": {},
   "outputs": [
    {
     "name": "stdout",
     "output_type": "stream",
     "text": [
      "<class 'pandas.core.frame.DataFrame'>\n",
      "RangeIndex: 373700 entries, 0 to 373699\n",
      "Data columns (total 6 columns):\n",
      " #   Column            Non-Null Count   Dtype \n",
      "---  ------            --------------   ----- \n",
      " 0   Order ID          372610 non-null  object\n",
      " 1   Product           372610 non-null  object\n",
      " 2   Quantity Ordered  372610 non-null  object\n",
      " 3   Price Each        372610 non-null  object\n",
      " 4   Order Date        372610 non-null  object\n",
      " 5   Purchase Address  372610 non-null  object\n",
      "dtypes: object(6)\n",
      "memory usage: 17.1+ MB\n"
     ]
    }
   ],
   "source": [
    "df.info() #Display number of rows, columns"
   ]
  },
  {
   "cell_type": "code",
   "execution_count": 42,
   "id": "904e6abf",
   "metadata": {},
   "outputs": [
    {
     "data": {
      "text/plain": [
       "(373700, 6)"
      ]
     },
     "execution_count": 42,
     "metadata": {},
     "output_type": "execute_result"
    }
   ],
   "source": [
    "df.shape #Get the number of rows and columns"
   ]
  },
  {
   "cell_type": "code",
   "execution_count": 43,
   "id": "1309e602",
   "metadata": {},
   "outputs": [
    {
     "data": {
      "text/plain": [
       "2242200"
      ]
     },
     "execution_count": 43,
     "metadata": {},
     "output_type": "execute_result"
    }
   ],
   "source": [
    "df.size #Get the number of elements"
   ]
  },
  {
   "cell_type": "code",
   "execution_count": 44,
   "id": "eeec7ac1",
   "metadata": {},
   "outputs": [
    {
     "data": {
      "text/plain": [
       "Order ID            object\n",
       "Product             object\n",
       "Quantity Ordered    object\n",
       "Price Each          object\n",
       "Order Date          object\n",
       "Purchase Address    object\n",
       "dtype: object"
      ]
     },
     "execution_count": 44,
     "metadata": {},
     "output_type": "execute_result"
    }
   ],
   "source": [
    "df.dtypes #Getting the data type of each column"
   ]
  },
  {
   "cell_type": "code",
   "execution_count": 45,
   "id": "fdb01a93",
   "metadata": {},
   "outputs": [
    {
     "data": {
      "text/plain": [
       "Order ID            1090\n",
       "Product             1090\n",
       "Quantity Ordered    1090\n",
       "Price Each          1090\n",
       "Order Date          1090\n",
       "Purchase Address    1090\n",
       "dtype: int64"
      ]
     },
     "execution_count": 45,
     "metadata": {},
     "output_type": "execute_result"
    }
   ],
   "source": [
    "df.isnull().sum() #Getting the total null values in each column."
   ]
  },
  {
   "cell_type": "code",
   "execution_count": 46,
   "id": "5ff77f53",
   "metadata": {},
   "outputs": [
    {
     "data": {
      "text/plain": [
       "Order ID            178438\n",
       "Product                 20\n",
       "Quantity Ordered        10\n",
       "Price Each              24\n",
       "Order Date          142396\n",
       "Purchase Address    140788\n",
       "dtype: int64"
      ]
     },
     "execution_count": 46,
     "metadata": {},
     "output_type": "execute_result"
    }
   ],
   "source": [
    "df.nunique() #getting no. of unique values"
   ]
  },
  {
   "cell_type": "code",
   "execution_count": 47,
   "id": "7a766691",
   "metadata": {},
   "outputs": [],
   "source": [
    "df = df.dropna(how = 'all')  #dropping all null values"
   ]
  },
  {
   "cell_type": "code",
   "execution_count": 48,
   "id": "aa19da93",
   "metadata": {},
   "outputs": [
    {
     "data": {
      "text/plain": [
       "0         False\n",
       "1         False\n",
       "2         False\n",
       "3         False\n",
       "4         False\n",
       "          ...  \n",
       "373695     True\n",
       "373696     True\n",
       "373697     True\n",
       "373698     True\n",
       "373699     True\n",
       "Length: 372610, dtype: bool"
      ]
     },
     "execution_count": 48,
     "metadata": {},
     "output_type": "execute_result"
    }
   ],
   "source": [
    "df.duplicated(subset= None, keep = 'first') #finding duplicate data"
   ]
  },
  {
   "cell_type": "code",
   "execution_count": 49,
   "id": "812249a4",
   "metadata": {},
   "outputs": [],
   "source": [
    "df= df.drop_duplicates() #removing duplicate data"
   ]
  },
  {
   "cell_type": "code",
   "execution_count": 50,
   "id": "d3ccdbf9",
   "metadata": {},
   "outputs": [
    {
     "data": {
      "text/html": [
       "<div>\n",
       "<style scoped>\n",
       "    .dataframe tbody tr th:only-of-type {\n",
       "        vertical-align: middle;\n",
       "    }\n",
       "\n",
       "    .dataframe tbody tr th {\n",
       "        vertical-align: top;\n",
       "    }\n",
       "\n",
       "    .dataframe thead th {\n",
       "        text-align: right;\n",
       "    }\n",
       "</style>\n",
       "<table border=\"1\" class=\"dataframe\">\n",
       "  <thead>\n",
       "    <tr style=\"text-align: right;\">\n",
       "      <th></th>\n",
       "      <th>Order ID</th>\n",
       "      <th>Product</th>\n",
       "      <th>Quantity Ordered</th>\n",
       "      <th>Price Each</th>\n",
       "      <th>Order Date</th>\n",
       "      <th>Purchase Address</th>\n",
       "    </tr>\n",
       "  </thead>\n",
       "  <tbody>\n",
       "    <tr>\n",
       "      <th>1073</th>\n",
       "      <td>Order ID</td>\n",
       "      <td>Product</td>\n",
       "      <td>Quantity Ordered</td>\n",
       "      <td>Price Each</td>\n",
       "      <td>Order Date</td>\n",
       "      <td>Purchase Address</td>\n",
       "    </tr>\n",
       "  </tbody>\n",
       "</table>\n",
       "</div>"
      ],
      "text/plain": [
       "      Order ID  Product  Quantity Ordered  Price Each  Order Date  \\\n",
       "1073  Order ID  Product  Quantity Ordered  Price Each  Order Date   \n",
       "\n",
       "      Purchase Address  \n",
       "1073  Purchase Address  "
      ]
     },
     "execution_count": 50,
     "metadata": {},
     "output_type": "execute_result"
    }
   ],
   "source": [
    "df1 = df[df['Order Date'].str[0:2]=='Or']\n",
    "df1.head()"
   ]
  },
  {
   "cell_type": "code",
   "execution_count": 51,
   "id": "3e903442",
   "metadata": {},
   "outputs": [],
   "source": [
    "df = df[df['Order Date'].str[0:2]!='Or']\n",
    "#print(df.loc[[1073]])"
   ]
  },
  {
   "cell_type": "code",
   "execution_count": 52,
   "id": "844ff8c2",
   "metadata": {},
   "outputs": [
    {
     "data": {
      "text/html": [
       "<div>\n",
       "<style scoped>\n",
       "    .dataframe tbody tr th:only-of-type {\n",
       "        vertical-align: middle;\n",
       "    }\n",
       "\n",
       "    .dataframe tbody tr th {\n",
       "        vertical-align: top;\n",
       "    }\n",
       "\n",
       "    .dataframe thead th {\n",
       "        text-align: right;\n",
       "    }\n",
       "</style>\n",
       "<table border=\"1\" class=\"dataframe\">\n",
       "  <thead>\n",
       "    <tr style=\"text-align: right;\">\n",
       "      <th></th>\n",
       "      <th>Order ID</th>\n",
       "      <th>Product</th>\n",
       "      <th>Quantity Ordered</th>\n",
       "      <th>Price Each</th>\n",
       "      <th>Order Date</th>\n",
       "      <th>Purchase Address</th>\n",
       "      <th>Hour</th>\n",
       "      <th>Month</th>\n",
       "    </tr>\n",
       "  </thead>\n",
       "  <tbody>\n",
       "    <tr>\n",
       "      <th>0</th>\n",
       "      <td>141234</td>\n",
       "      <td>iPhone</td>\n",
       "      <td>1</td>\n",
       "      <td>700</td>\n",
       "      <td>2019-01-22 21:25:00</td>\n",
       "      <td>944 Walnut St, Boston, MA 02215</td>\n",
       "      <td>21</td>\n",
       "      <td>1</td>\n",
       "    </tr>\n",
       "    <tr>\n",
       "      <th>1</th>\n",
       "      <td>141235</td>\n",
       "      <td>Lightning Charging Cable</td>\n",
       "      <td>1</td>\n",
       "      <td>14.95</td>\n",
       "      <td>2019-01-28 14:15:00</td>\n",
       "      <td>185 Maple St, Portland, OR 97035</td>\n",
       "      <td>14</td>\n",
       "      <td>1</td>\n",
       "    </tr>\n",
       "    <tr>\n",
       "      <th>2</th>\n",
       "      <td>141236</td>\n",
       "      <td>Wired Headphones</td>\n",
       "      <td>2</td>\n",
       "      <td>11.99</td>\n",
       "      <td>2019-01-17 13:33:00</td>\n",
       "      <td>538 Adams St, San Francisco, CA 94016</td>\n",
       "      <td>13</td>\n",
       "      <td>1</td>\n",
       "    </tr>\n",
       "    <tr>\n",
       "      <th>3</th>\n",
       "      <td>141237</td>\n",
       "      <td>27in FHD Monitor</td>\n",
       "      <td>1</td>\n",
       "      <td>149.99</td>\n",
       "      <td>2019-01-05 20:33:00</td>\n",
       "      <td>738 10th St, Los Angeles, CA 90001</td>\n",
       "      <td>20</td>\n",
       "      <td>1</td>\n",
       "    </tr>\n",
       "    <tr>\n",
       "      <th>4</th>\n",
       "      <td>141238</td>\n",
       "      <td>Wired Headphones</td>\n",
       "      <td>1</td>\n",
       "      <td>11.99</td>\n",
       "      <td>2019-01-25 11:59:00</td>\n",
       "      <td>387 10th St, Austin, TX 73301</td>\n",
       "      <td>11</td>\n",
       "      <td>1</td>\n",
       "    </tr>\n",
       "  </tbody>\n",
       "</table>\n",
       "</div>"
      ],
      "text/plain": [
       "  Order ID                   Product Quantity Ordered Price Each  \\\n",
       "0   141234                    iPhone                1        700   \n",
       "1   141235  Lightning Charging Cable                1      14.95   \n",
       "2   141236          Wired Headphones                2      11.99   \n",
       "3   141237          27in FHD Monitor                1     149.99   \n",
       "4   141238          Wired Headphones                1      11.99   \n",
       "\n",
       "           Order Date                       Purchase Address  Hour  Month  \n",
       "0 2019-01-22 21:25:00        944 Walnut St, Boston, MA 02215    21      1  \n",
       "1 2019-01-28 14:15:00       185 Maple St, Portland, OR 97035    14      1  \n",
       "2 2019-01-17 13:33:00  538 Adams St, San Francisco, CA 94016    13      1  \n",
       "3 2019-01-05 20:33:00     738 10th St, Los Angeles, CA 90001    20      1  \n",
       "4 2019-01-25 11:59:00          387 10th St, Austin, TX 73301    11      1  "
      ]
     },
     "execution_count": 52,
     "metadata": {},
     "output_type": "execute_result"
    }
   ],
   "source": [
    "#As we need monthly and hourly data, we have to convert and add a new columns named as Hour and Month\n",
    "df['Order Date'] = df['Order Date'].astype('datetime64')\n",
    "df['Hour'] = (df['Order Date']).dt.hour\n",
    "df['Month'] = (df['Order Date']).dt.month\n",
    "df.head()"
   ]
  },
  {
   "cell_type": "code",
   "execution_count": 53,
   "id": "d8a3502a",
   "metadata": {},
   "outputs": [
    {
     "data": {
      "text/html": [
       "<div>\n",
       "<style scoped>\n",
       "    .dataframe tbody tr th:only-of-type {\n",
       "        vertical-align: middle;\n",
       "    }\n",
       "\n",
       "    .dataframe tbody tr th {\n",
       "        vertical-align: top;\n",
       "    }\n",
       "\n",
       "    .dataframe thead th {\n",
       "        text-align: right;\n",
       "    }\n",
       "</style>\n",
       "<table border=\"1\" class=\"dataframe\">\n",
       "  <thead>\n",
       "    <tr style=\"text-align: right;\">\n",
       "      <th></th>\n",
       "      <th>Order ID</th>\n",
       "      <th>Product</th>\n",
       "      <th>Quantity Ordered</th>\n",
       "      <th>Price Each</th>\n",
       "      <th>Order Date</th>\n",
       "      <th>Purchase Address</th>\n",
       "      <th>Hour</th>\n",
       "      <th>Month</th>\n",
       "      <th>City</th>\n",
       "    </tr>\n",
       "  </thead>\n",
       "  <tbody>\n",
       "    <tr>\n",
       "      <th>0</th>\n",
       "      <td>141234</td>\n",
       "      <td>iPhone</td>\n",
       "      <td>1</td>\n",
       "      <td>700</td>\n",
       "      <td>2019-01-22 21:25:00</td>\n",
       "      <td>944 Walnut St, Boston, MA 02215</td>\n",
       "      <td>21</td>\n",
       "      <td>1</td>\n",
       "      <td>Boston MA</td>\n",
       "    </tr>\n",
       "    <tr>\n",
       "      <th>1</th>\n",
       "      <td>141235</td>\n",
       "      <td>Lightning Charging Cable</td>\n",
       "      <td>1</td>\n",
       "      <td>14.95</td>\n",
       "      <td>2019-01-28 14:15:00</td>\n",
       "      <td>185 Maple St, Portland, OR 97035</td>\n",
       "      <td>14</td>\n",
       "      <td>1</td>\n",
       "      <td>Portland OR</td>\n",
       "    </tr>\n",
       "    <tr>\n",
       "      <th>2</th>\n",
       "      <td>141236</td>\n",
       "      <td>Wired Headphones</td>\n",
       "      <td>2</td>\n",
       "      <td>11.99</td>\n",
       "      <td>2019-01-17 13:33:00</td>\n",
       "      <td>538 Adams St, San Francisco, CA 94016</td>\n",
       "      <td>13</td>\n",
       "      <td>1</td>\n",
       "      <td>San Francisco CA</td>\n",
       "    </tr>\n",
       "    <tr>\n",
       "      <th>3</th>\n",
       "      <td>141237</td>\n",
       "      <td>27in FHD Monitor</td>\n",
       "      <td>1</td>\n",
       "      <td>149.99</td>\n",
       "      <td>2019-01-05 20:33:00</td>\n",
       "      <td>738 10th St, Los Angeles, CA 90001</td>\n",
       "      <td>20</td>\n",
       "      <td>1</td>\n",
       "      <td>Los Angeles CA</td>\n",
       "    </tr>\n",
       "    <tr>\n",
       "      <th>4</th>\n",
       "      <td>141238</td>\n",
       "      <td>Wired Headphones</td>\n",
       "      <td>1</td>\n",
       "      <td>11.99</td>\n",
       "      <td>2019-01-25 11:59:00</td>\n",
       "      <td>387 10th St, Austin, TX 73301</td>\n",
       "      <td>11</td>\n",
       "      <td>1</td>\n",
       "      <td>Austin TX</td>\n",
       "    </tr>\n",
       "  </tbody>\n",
       "</table>\n",
       "</div>"
      ],
      "text/plain": [
       "  Order ID                   Product Quantity Ordered Price Each  \\\n",
       "0   141234                    iPhone                1        700   \n",
       "1   141235  Lightning Charging Cable                1      14.95   \n",
       "2   141236          Wired Headphones                2      11.99   \n",
       "3   141237          27in FHD Monitor                1     149.99   \n",
       "4   141238          Wired Headphones                1      11.99   \n",
       "\n",
       "           Order Date                       Purchase Address  Hour  Month  \\\n",
       "0 2019-01-22 21:25:00        944 Walnut St, Boston, MA 02215    21      1   \n",
       "1 2019-01-28 14:15:00       185 Maple St, Portland, OR 97035    14      1   \n",
       "2 2019-01-17 13:33:00  538 Adams St, San Francisco, CA 94016    13      1   \n",
       "3 2019-01-05 20:33:00     738 10th St, Los Angeles, CA 90001    20      1   \n",
       "4 2019-01-25 11:59:00          387 10th St, Austin, TX 73301    11      1   \n",
       "\n",
       "                City  \n",
       "0          Boston MA  \n",
       "1        Portland OR  \n",
       "2   San Francisco CA  \n",
       "3     Los Angeles CA  \n",
       "4          Austin TX  "
      ]
     },
     "execution_count": 53,
     "metadata": {},
     "output_type": "execute_result"
    }
   ],
   "source": [
    "#Adding a 'City' column\n",
    "def get_city(address):\n",
    "    return address.split(',')[1]\n",
    "def get_state(address):\n",
    "    return address.split(',')[2].split(' ')[1]\n",
    "\n",
    "df['City'] = df['Purchase Address'].apply(lambda x: get_city(x)+' '+ get_state(x))\n",
    "df.head()"
   ]
  },
  {
   "cell_type": "code",
   "execution_count": 54,
   "id": "d5ce249d",
   "metadata": {},
   "outputs": [
    {
     "data": {
      "text/html": [
       "<div>\n",
       "<style scoped>\n",
       "    .dataframe tbody tr th:only-of-type {\n",
       "        vertical-align: middle;\n",
       "    }\n",
       "\n",
       "    .dataframe tbody tr th {\n",
       "        vertical-align: top;\n",
       "    }\n",
       "\n",
       "    .dataframe thead th {\n",
       "        text-align: right;\n",
       "    }\n",
       "</style>\n",
       "<table border=\"1\" class=\"dataframe\">\n",
       "  <thead>\n",
       "    <tr style=\"text-align: right;\">\n",
       "      <th></th>\n",
       "      <th>Order ID</th>\n",
       "      <th>Product</th>\n",
       "      <th>Quantity Ordered</th>\n",
       "      <th>Price Each</th>\n",
       "      <th>Order Date</th>\n",
       "      <th>Purchase Address</th>\n",
       "      <th>Hour</th>\n",
       "      <th>Month</th>\n",
       "      <th>City</th>\n",
       "      <th>Sales</th>\n",
       "    </tr>\n",
       "  </thead>\n",
       "  <tbody>\n",
       "    <tr>\n",
       "      <th>0</th>\n",
       "      <td>141234</td>\n",
       "      <td>iPhone</td>\n",
       "      <td>1</td>\n",
       "      <td>700.00</td>\n",
       "      <td>2019-01-22 21:25:00</td>\n",
       "      <td>944 Walnut St, Boston, MA 02215</td>\n",
       "      <td>21</td>\n",
       "      <td>1</td>\n",
       "      <td>Boston MA</td>\n",
       "      <td>700.00</td>\n",
       "    </tr>\n",
       "    <tr>\n",
       "      <th>1</th>\n",
       "      <td>141235</td>\n",
       "      <td>Lightning Charging Cable</td>\n",
       "      <td>1</td>\n",
       "      <td>14.95</td>\n",
       "      <td>2019-01-28 14:15:00</td>\n",
       "      <td>185 Maple St, Portland, OR 97035</td>\n",
       "      <td>14</td>\n",
       "      <td>1</td>\n",
       "      <td>Portland OR</td>\n",
       "      <td>14.95</td>\n",
       "    </tr>\n",
       "    <tr>\n",
       "      <th>2</th>\n",
       "      <td>141236</td>\n",
       "      <td>Wired Headphones</td>\n",
       "      <td>2</td>\n",
       "      <td>11.99</td>\n",
       "      <td>2019-01-17 13:33:00</td>\n",
       "      <td>538 Adams St, San Francisco, CA 94016</td>\n",
       "      <td>13</td>\n",
       "      <td>1</td>\n",
       "      <td>San Francisco CA</td>\n",
       "      <td>23.98</td>\n",
       "    </tr>\n",
       "    <tr>\n",
       "      <th>3</th>\n",
       "      <td>141237</td>\n",
       "      <td>27in FHD Monitor</td>\n",
       "      <td>1</td>\n",
       "      <td>149.99</td>\n",
       "      <td>2019-01-05 20:33:00</td>\n",
       "      <td>738 10th St, Los Angeles, CA 90001</td>\n",
       "      <td>20</td>\n",
       "      <td>1</td>\n",
       "      <td>Los Angeles CA</td>\n",
       "      <td>149.99</td>\n",
       "    </tr>\n",
       "    <tr>\n",
       "      <th>4</th>\n",
       "      <td>141238</td>\n",
       "      <td>Wired Headphones</td>\n",
       "      <td>1</td>\n",
       "      <td>11.99</td>\n",
       "      <td>2019-01-25 11:59:00</td>\n",
       "      <td>387 10th St, Austin, TX 73301</td>\n",
       "      <td>11</td>\n",
       "      <td>1</td>\n",
       "      <td>Austin TX</td>\n",
       "      <td>11.99</td>\n",
       "    </tr>\n",
       "  </tbody>\n",
       "</table>\n",
       "</div>"
      ],
      "text/plain": [
       "  Order ID                   Product  Quantity Ordered  Price Each  \\\n",
       "0   141234                    iPhone                 1      700.00   \n",
       "1   141235  Lightning Charging Cable                 1       14.95   \n",
       "2   141236          Wired Headphones                 2       11.99   \n",
       "3   141237          27in FHD Monitor                 1      149.99   \n",
       "4   141238          Wired Headphones                 1       11.99   \n",
       "\n",
       "           Order Date                       Purchase Address  Hour  Month  \\\n",
       "0 2019-01-22 21:25:00        944 Walnut St, Boston, MA 02215    21      1   \n",
       "1 2019-01-28 14:15:00       185 Maple St, Portland, OR 97035    14      1   \n",
       "2 2019-01-17 13:33:00  538 Adams St, San Francisco, CA 94016    13      1   \n",
       "3 2019-01-05 20:33:00     738 10th St, Los Angeles, CA 90001    20      1   \n",
       "4 2019-01-25 11:59:00          387 10th St, Austin, TX 73301    11      1   \n",
       "\n",
       "                City   Sales  \n",
       "0          Boston MA  700.00  \n",
       "1        Portland OR   14.95  \n",
       "2   San Francisco CA   23.98  \n",
       "3     Los Angeles CA  149.99  \n",
       "4          Austin TX   11.99  "
      ]
     },
     "execution_count": 54,
     "metadata": {},
     "output_type": "execute_result"
    }
   ],
   "source": [
    "#Converting 'Quantity Ordered' and 'Price Each' into Numeric\n",
    "df['Quantity Ordered'] = pd.to_numeric(df['Quantity Ordered'])\n",
    "df['Price Each'] = pd.to_numeric(df['Price Each'])\n",
    "\n",
    "#Adding Sales Column\n",
    "df['Sales'] = df['Quantity Ordered']*df['Price Each']\n",
    "df.head()"
   ]
  },
  {
   "cell_type": "code",
   "execution_count": 55,
   "id": "df30d2eb",
   "metadata": {},
   "outputs": [
    {
     "data": {
      "text/html": [
       "<div>\n",
       "<style scoped>\n",
       "    .dataframe tbody tr th:only-of-type {\n",
       "        vertical-align: middle;\n",
       "    }\n",
       "\n",
       "    .dataframe tbody tr th {\n",
       "        vertical-align: top;\n",
       "    }\n",
       "\n",
       "    .dataframe thead th {\n",
       "        text-align: right;\n",
       "    }\n",
       "</style>\n",
       "<table border=\"1\" class=\"dataframe\">\n",
       "  <thead>\n",
       "    <tr style=\"text-align: right;\">\n",
       "      <th></th>\n",
       "      <th>Quantity Ordered</th>\n",
       "      <th>Price Each</th>\n",
       "      <th>Hour</th>\n",
       "      <th>Month</th>\n",
       "      <th>Sales</th>\n",
       "    </tr>\n",
       "  </thead>\n",
       "  <tbody>\n",
       "    <tr>\n",
       "      <th>count</th>\n",
       "      <td>185686.000000</td>\n",
       "      <td>185686.000000</td>\n",
       "      <td>185686.000000</td>\n",
       "      <td>185686.000000</td>\n",
       "      <td>185686.000000</td>\n",
       "    </tr>\n",
       "    <tr>\n",
       "      <th>mean</th>\n",
       "      <td>1.124544</td>\n",
       "      <td>184.519255</td>\n",
       "      <td>14.412934</td>\n",
       "      <td>7.058653</td>\n",
       "      <td>185.611936</td>\n",
       "    </tr>\n",
       "    <tr>\n",
       "      <th>std</th>\n",
       "      <td>0.443069</td>\n",
       "      <td>332.843838</td>\n",
       "      <td>5.423329</td>\n",
       "      <td>3.502932</td>\n",
       "      <td>333.032118</td>\n",
       "    </tr>\n",
       "    <tr>\n",
       "      <th>min</th>\n",
       "      <td>1.000000</td>\n",
       "      <td>2.990000</td>\n",
       "      <td>0.000000</td>\n",
       "      <td>1.000000</td>\n",
       "      <td>2.990000</td>\n",
       "    </tr>\n",
       "    <tr>\n",
       "      <th>25%</th>\n",
       "      <td>1.000000</td>\n",
       "      <td>11.950000</td>\n",
       "      <td>11.000000</td>\n",
       "      <td>4.000000</td>\n",
       "      <td>11.950000</td>\n",
       "    </tr>\n",
       "    <tr>\n",
       "      <th>50%</th>\n",
       "      <td>1.000000</td>\n",
       "      <td>14.950000</td>\n",
       "      <td>15.000000</td>\n",
       "      <td>7.000000</td>\n",
       "      <td>14.950000</td>\n",
       "    </tr>\n",
       "    <tr>\n",
       "      <th>75%</th>\n",
       "      <td>1.000000</td>\n",
       "      <td>150.000000</td>\n",
       "      <td>19.000000</td>\n",
       "      <td>10.000000</td>\n",
       "      <td>150.000000</td>\n",
       "    </tr>\n",
       "    <tr>\n",
       "      <th>max</th>\n",
       "      <td>9.000000</td>\n",
       "      <td>1700.000000</td>\n",
       "      <td>23.000000</td>\n",
       "      <td>12.000000</td>\n",
       "      <td>3400.000000</td>\n",
       "    </tr>\n",
       "  </tbody>\n",
       "</table>\n",
       "</div>"
      ],
      "text/plain": [
       "       Quantity Ordered     Price Each           Hour          Month  \\\n",
       "count     185686.000000  185686.000000  185686.000000  185686.000000   \n",
       "mean           1.124544     184.519255      14.412934       7.058653   \n",
       "std            0.443069     332.843838       5.423329       3.502932   \n",
       "min            1.000000       2.990000       0.000000       1.000000   \n",
       "25%            1.000000      11.950000      11.000000       4.000000   \n",
       "50%            1.000000      14.950000      15.000000       7.000000   \n",
       "75%            1.000000     150.000000      19.000000      10.000000   \n",
       "max            9.000000    1700.000000      23.000000      12.000000   \n",
       "\n",
       "               Sales  \n",
       "count  185686.000000  \n",
       "mean      185.611936  \n",
       "std       333.032118  \n",
       "min         2.990000  \n",
       "25%        11.950000  \n",
       "50%        14.950000  \n",
       "75%       150.000000  \n",
       "max      3400.000000  "
      ]
     },
     "execution_count": 55,
     "metadata": {},
     "output_type": "execute_result"
    }
   ],
   "source": [
    "df.describe() #Finding the mean, max, min, and std deviation"
   ]
  },
  {
   "cell_type": "markdown",
   "id": "9377bc46",
   "metadata": {},
   "source": [
    "max quantity ordered is 9"
   ]
  },
  {
   "cell_type": "code",
   "execution_count": 56,
   "id": "67d183c0",
   "metadata": {},
   "outputs": [
    {
     "data": {
      "text/html": [
       "<div>\n",
       "<style scoped>\n",
       "    .dataframe tbody tr th:only-of-type {\n",
       "        vertical-align: middle;\n",
       "    }\n",
       "\n",
       "    .dataframe tbody tr th {\n",
       "        vertical-align: top;\n",
       "    }\n",
       "\n",
       "    .dataframe thead th {\n",
       "        text-align: right;\n",
       "    }\n",
       "</style>\n",
       "<table border=\"1\" class=\"dataframe\">\n",
       "  <thead>\n",
       "    <tr style=\"text-align: right;\">\n",
       "      <th></th>\n",
       "      <th>Order ID</th>\n",
       "      <th>Product</th>\n",
       "      <th>Quantity Ordered</th>\n",
       "      <th>Price Each</th>\n",
       "      <th>Order Date</th>\n",
       "      <th>Purchase Address</th>\n",
       "      <th>Hour</th>\n",
       "      <th>Month</th>\n",
       "      <th>City</th>\n",
       "      <th>Sales</th>\n",
       "    </tr>\n",
       "  </thead>\n",
       "  <tbody>\n",
       "    <tr>\n",
       "      <th>0</th>\n",
       "      <td>141234</td>\n",
       "      <td>iPhone</td>\n",
       "      <td>1</td>\n",
       "      <td>700.00</td>\n",
       "      <td>2019-01-22 21:25:00</td>\n",
       "      <td>944 Walnut St, Boston, MA 02215</td>\n",
       "      <td>21</td>\n",
       "      <td>1</td>\n",
       "      <td>Boston MA</td>\n",
       "      <td>700.00</td>\n",
       "    </tr>\n",
       "    <tr>\n",
       "      <th>1</th>\n",
       "      <td>141235</td>\n",
       "      <td>Lightning Charging Cable</td>\n",
       "      <td>1</td>\n",
       "      <td>14.95</td>\n",
       "      <td>2019-01-28 14:15:00</td>\n",
       "      <td>185 Maple St, Portland, OR 97035</td>\n",
       "      <td>14</td>\n",
       "      <td>1</td>\n",
       "      <td>Portland OR</td>\n",
       "      <td>14.95</td>\n",
       "    </tr>\n",
       "    <tr>\n",
       "      <th>2</th>\n",
       "      <td>141236</td>\n",
       "      <td>Wired Headphones</td>\n",
       "      <td>2</td>\n",
       "      <td>11.99</td>\n",
       "      <td>2019-01-17 13:33:00</td>\n",
       "      <td>538 Adams St, San Francisco, CA 94016</td>\n",
       "      <td>13</td>\n",
       "      <td>1</td>\n",
       "      <td>San Francisco CA</td>\n",
       "      <td>23.98</td>\n",
       "    </tr>\n",
       "    <tr>\n",
       "      <th>3</th>\n",
       "      <td>141237</td>\n",
       "      <td>27in FHD Monitor</td>\n",
       "      <td>1</td>\n",
       "      <td>149.99</td>\n",
       "      <td>2019-01-05 20:33:00</td>\n",
       "      <td>738 10th St, Los Angeles, CA 90001</td>\n",
       "      <td>20</td>\n",
       "      <td>1</td>\n",
       "      <td>Los Angeles CA</td>\n",
       "      <td>149.99</td>\n",
       "    </tr>\n",
       "    <tr>\n",
       "      <th>4</th>\n",
       "      <td>141238</td>\n",
       "      <td>Wired Headphones</td>\n",
       "      <td>1</td>\n",
       "      <td>11.99</td>\n",
       "      <td>2019-01-25 11:59:00</td>\n",
       "      <td>387 10th St, Austin, TX 73301</td>\n",
       "      <td>11</td>\n",
       "      <td>1</td>\n",
       "      <td>Austin TX</td>\n",
       "      <td>11.99</td>\n",
       "    </tr>\n",
       "  </tbody>\n",
       "</table>\n",
       "</div>"
      ],
      "text/plain": [
       "  Order ID                   Product  Quantity Ordered  Price Each  \\\n",
       "0   141234                    iPhone                 1      700.00   \n",
       "1   141235  Lightning Charging Cable                 1       14.95   \n",
       "2   141236          Wired Headphones                 2       11.99   \n",
       "3   141237          27in FHD Monitor                 1      149.99   \n",
       "4   141238          Wired Headphones                 1       11.99   \n",
       "\n",
       "           Order Date                       Purchase Address  Hour  Month  \\\n",
       "0 2019-01-22 21:25:00        944 Walnut St, Boston, MA 02215    21      1   \n",
       "1 2019-01-28 14:15:00       185 Maple St, Portland, OR 97035    14      1   \n",
       "2 2019-01-17 13:33:00  538 Adams St, San Francisco, CA 94016    13      1   \n",
       "3 2019-01-05 20:33:00     738 10th St, Los Angeles, CA 90001    20      1   \n",
       "4 2019-01-25 11:59:00          387 10th St, Austin, TX 73301    11      1   \n",
       "\n",
       "                City   Sales  \n",
       "0          Boston MA  700.00  \n",
       "1        Portland OR   14.95  \n",
       "2   San Francisco CA   23.98  \n",
       "3     Los Angeles CA  149.99  \n",
       "4          Austin TX   11.99  "
      ]
     },
     "execution_count": 56,
     "metadata": {},
     "output_type": "execute_result"
    }
   ],
   "source": [
    " df.head()"
   ]
  },
  {
   "cell_type": "markdown",
   "id": "3efd5102",
   "metadata": {},
   "source": [
    "**3. Provide a summary of the cleaned dataset along with some preliminary analysis and contrast it with the uncleaned dataset        wherever modifications are made.**"
   ]
  },
  {
   "cell_type": "markdown",
   "id": "36b74f29",
   "metadata": {},
   "source": [
    "1. As we could now see in the cleaned and modified data we have dropped all null values.\n",
    "3. Changed Object data types to necessary required data types, like numericals and date-time format.\n",
    "4. We had a column of address, we split that column into a column of City and also Order date into Hour and month.\n",
    "5. We will need sales column, so we added a new column called Sales by multiplying Quantity ordered and Price each.\n",
    "6. We dropped duplicate values.\n"
   ]
  },
  {
   "cell_type": "markdown",
   "id": "03a90ac4",
   "metadata": {},
   "source": [
    "**4. Distribution of Sales among different cities in different months**"
   ]
  },
  {
   "cell_type": "markdown",
   "id": "3f356243",
   "metadata": {},
   "source": [
    "4.1 What is the distribution of sales among different cities in different months?"
   ]
  },
  {
   "cell_type": "code",
   "execution_count": 57,
   "id": "43966fa7",
   "metadata": {},
   "outputs": [
    {
     "data": {
      "image/png": "[encoded data removed]",
      "text/plain": [
       "<Figure size 1440x432 with 1 Axes>"
      ]
     },
     "metadata": {
      "needs_background": "light"
     },
     "output_type": "display_data"
    }
   ],
   "source": [
    "dist_sales = df.groupby(['City','Month']).agg({'Sales':'sum'}).reset_index()\n",
    "plt.figure(figsize=(20,6))\n",
    "t= sns.barplot(x='City', y='Sales', hue='Month', data=dist_sales, edgecolor='b')\n",
    "plt.show()"
   ]
  },
  {
   "cell_type": "markdown",
   "id": "bed6222c",
   "metadata": {},
   "source": [
    "**4.2 Which city had the highest sales overall?**"
   ]
  },
  {
   "cell_type": "code",
   "execution_count": 58,
   "id": "bb7e8e77",
   "metadata": {},
   "outputs": [
    {
     "data": {
      "image/png": "[encoded data removed]",
      "text/plain": [
       "<Figure size 432x288 with 1 Axes>"
      ]
     },
     "metadata": {
      "needs_background": "light"
     },
     "output_type": "display_data"
    }
   ],
   "source": [
    "city_sales=df.groupby(['City']).agg({'Sales':'sum'}).reset_index()\n",
    "j=sns.barplot(x='City',y='Sales',data=city_sales)\n",
    "plt.xticks(rotation='vertical')\n",
    "plt.show()"
   ]
  },
  {
   "cell_type": "markdown",
   "id": "4c00b689",
   "metadata": {},
   "source": [
    "San francisco has highest no. of sales"
   ]
  },
  {
   "cell_type": "markdown",
   "id": "03d3b558",
   "metadata": {},
   "source": [
    "**4.3 Which month had the highest sales?**"
   ]
  },
  {
   "cell_type": "code",
   "execution_count": 59,
   "id": "2aefa5e5",
   "metadata": {},
   "outputs": [
    {
     "data": {
      "image/png": "[encoded data removed]",
      "text/plain": [
       "<Figure size 432x288 with 1 Axes>"
      ]
     },
     "metadata": {
      "needs_background": "light"
     },
     "output_type": "display_data"
    }
   ],
   "source": [
    "month_sales=df.groupby(['Month']).agg({'Sales':'sum'}).reset_index()\n",
    "j=sns.barplot(x='Month',y='Sales',data=month_sales)\n",
    "plt.show()"
   ]
  },
  {
   "cell_type": "markdown",
   "id": "5268893b",
   "metadata": {},
   "source": [
    "December has highest amount of sales."
   ]
  },
  {
   "cell_type": "markdown",
   "id": "57ebc363",
   "metadata": {},
   "source": [
    "**4.4 Most bought products per city.**"
   ]
  },
  {
   "cell_type": "code",
   "execution_count": 60,
   "id": "569ebaa4",
   "metadata": {},
   "outputs": [
    {
     "data": {
      "text/plain": [
       "<AxesSubplot:title={'center':'Most bought products per city'}, xlabel='City', ylabel='count'>"
      ]
     },
     "execution_count": 60,
     "metadata": {},
     "output_type": "execute_result"
    },
    {
     "data": {
      "image/png": "[encoded data removed]",
      "text/plain": [
       "<Figure size 1440x432 with 1 Axes>"
      ]
     },
     "metadata": {
      "needs_background": "light"
     },
     "output_type": "display_data"
    }
   ],
   "source": [
    "plt.figure(figsize=(20, 6)) ##managing size\n",
    "plt.title('Most bought products per city') #giving title \n",
    "sns.countplot(df['City'], hue = df.Product) #plotting count plot"
   ]
  },
  {
   "cell_type": "markdown",
   "id": "7f25636c",
   "metadata": {},
   "source": [
    "Now we can clearly analyse which product is mostly bought in which city like in Los angeles CA AA Batteries(4 pack) is mostly bought by the customers "
   ]
  },
  {
   "cell_type": "markdown",
   "id": "1211154a",
   "metadata": {},
   "source": [
    "Based on the analysis we can say that the branch of super market should be open in san francisco CA because it has maximum sales and in the month of December as there are maximum sales in December ."
   ]
  },
  {
   "cell_type": "markdown",
   "id": "33fe4b89",
   "metadata": {},
   "source": [
    "**5. Find out the distribution of sales over different times of the day (Morning, Afternoon, Evening, Night)**"
   ]
  },
  {
   "cell_type": "code",
   "execution_count": 61,
   "id": "f1b96f34",
   "metadata": {},
   "outputs": [],
   "source": [
    "day_sales = df['Order Date'].dt.hour.map(lambda x: 'Midnight' if 0<=x<5 else 'Morning' if 5<=x<11 else 'Noon' if 11<=x<16 else 'Evening' if 16<=x<20 else 'Night')"
   ]
  },
  {
   "cell_type": "code",
   "execution_count": 62,
   "id": "034629a6",
   "metadata": {},
   "outputs": [],
   "source": [
    "values = day_sales.value_counts(sort=False).values"
   ]
  },
  {
   "cell_type": "code",
   "execution_count": 63,
   "id": "74c343ca",
   "metadata": {},
   "outputs": [
    {
     "data": {
      "image/png": "[encoded data removed]",
      "text/plain": [
       "<Figure size 432x288 with 1 Axes>"
      ]
     },
     "metadata": {},
     "output_type": "display_data"
    }
   ],
   "source": [
    "explode = [0 if x<max(values) else 0.15 for x in values]\n",
    "plt.pie(values,labels=day_sales.unique(),colors=sns.color_palette('muted'), autopct='%.0f%%', explode = explode)\n",
    "plt.show()"
   ]
  },
  {
   "cell_type": "markdown",
   "id": "8545be4c",
   "metadata": {},
   "source": [
    "All the Products are mostly sold in the Noon."
   ]
  },
  {
   "cell_type": "markdown",
   "id": "0c467974",
   "metadata": {},
   "source": [
    "**6. What Products are most often Sold together?**"
   ]
  },
  {
   "cell_type": "code",
   "execution_count": 64,
   "id": "eb2ba97a",
   "metadata": {},
   "outputs": [
    {
     "data": {
      "text/plain": [
       "False    171911\n",
       "True       6526\n",
       "Name: Product, dtype: int64"
      ]
     },
     "execution_count": 64,
     "metadata": {},
     "output_type": "execute_result"
    }
   ],
   "source": [
    "(df.groupby('Order ID')['Product'].count()==2).value_counts()"
   ]
  },
  {
   "cell_type": "markdown",
   "id": "d488d23c",
   "metadata": {},
   "source": [
    "**Creating Group of Products Ordered together**"
   ]
  },
  {
   "cell_type": "code",
   "execution_count": 65,
   "id": "f707f281",
   "metadata": {},
   "outputs": [
    {
     "data": {
      "text/html": [
       "<div>\n",
       "<style scoped>\n",
       "    .dataframe tbody tr th:only-of-type {\n",
       "        vertical-align: middle;\n",
       "    }\n",
       "\n",
       "    .dataframe tbody tr th {\n",
       "        vertical-align: top;\n",
       "    }\n",
       "\n",
       "    .dataframe thead th {\n",
       "        text-align: right;\n",
       "    }\n",
       "</style>\n",
       "<table border=\"1\" class=\"dataframe\">\n",
       "  <thead>\n",
       "    <tr style=\"text-align: right;\">\n",
       "      <th></th>\n",
       "      <th>Order ID</th>\n",
       "      <th>Product</th>\n",
       "      <th>Quantity Ordered</th>\n",
       "      <th>Price Each</th>\n",
       "      <th>Order Date</th>\n",
       "      <th>Purchase Address</th>\n",
       "      <th>Hour</th>\n",
       "      <th>Month</th>\n",
       "      <th>City</th>\n",
       "      <th>Sales</th>\n",
       "    </tr>\n",
       "  </thead>\n",
       "  <tbody>\n",
       "    <tr>\n",
       "      <th>41</th>\n",
       "      <td>141275</td>\n",
       "      <td>USB-C Charging Cable</td>\n",
       "      <td>1</td>\n",
       "      <td>11.95</td>\n",
       "      <td>2019-01-07 16:06:00</td>\n",
       "      <td>610 Walnut St, Austin, TX 73301</td>\n",
       "      <td>16</td>\n",
       "      <td>1</td>\n",
       "      <td>Austin TX</td>\n",
       "      <td>11.95</td>\n",
       "    </tr>\n",
       "    <tr>\n",
       "      <th>42</th>\n",
       "      <td>141275</td>\n",
       "      <td>Wired Headphones</td>\n",
       "      <td>1</td>\n",
       "      <td>11.99</td>\n",
       "      <td>2019-01-07 16:06:00</td>\n",
       "      <td>610 Walnut St, Austin, TX 73301</td>\n",
       "      <td>16</td>\n",
       "      <td>1</td>\n",
       "      <td>Austin TX</td>\n",
       "      <td>11.99</td>\n",
       "    </tr>\n",
       "    <tr>\n",
       "      <th>57</th>\n",
       "      <td>141290</td>\n",
       "      <td>Apple Airpods Headphones</td>\n",
       "      <td>1</td>\n",
       "      <td>150.00</td>\n",
       "      <td>2019-01-02 08:25:00</td>\n",
       "      <td>4 1st St, Los Angeles, CA 90001</td>\n",
       "      <td>8</td>\n",
       "      <td>1</td>\n",
       "      <td>Los Angeles CA</td>\n",
       "      <td>150.00</td>\n",
       "    </tr>\n",
       "    <tr>\n",
       "      <th>58</th>\n",
       "      <td>141290</td>\n",
       "      <td>AA Batteries (4-pack)</td>\n",
       "      <td>3</td>\n",
       "      <td>3.84</td>\n",
       "      <td>2019-01-02 08:25:00</td>\n",
       "      <td>4 1st St, Los Angeles, CA 90001</td>\n",
       "      <td>8</td>\n",
       "      <td>1</td>\n",
       "      <td>Los Angeles CA</td>\n",
       "      <td>11.52</td>\n",
       "    </tr>\n",
       "    <tr>\n",
       "      <th>133</th>\n",
       "      <td>141365</td>\n",
       "      <td>Vareebadd Phone</td>\n",
       "      <td>1</td>\n",
       "      <td>400.00</td>\n",
       "      <td>2019-01-10 11:19:00</td>\n",
       "      <td>20 Dogwood St, New York City, NY 10001</td>\n",
       "      <td>11</td>\n",
       "      <td>1</td>\n",
       "      <td>New York City NY</td>\n",
       "      <td>400.00</td>\n",
       "    </tr>\n",
       "    <tr>\n",
       "      <th>134</th>\n",
       "      <td>141365</td>\n",
       "      <td>Wired Headphones</td>\n",
       "      <td>1</td>\n",
       "      <td>11.99</td>\n",
       "      <td>2019-01-10 11:19:00</td>\n",
       "      <td>20 Dogwood St, New York City, NY 10001</td>\n",
       "      <td>11</td>\n",
       "      <td>1</td>\n",
       "      <td>New York City NY</td>\n",
       "      <td>11.99</td>\n",
       "    </tr>\n",
       "    <tr>\n",
       "      <th>153</th>\n",
       "      <td>141384</td>\n",
       "      <td>Google Phone</td>\n",
       "      <td>1</td>\n",
       "      <td>600.00</td>\n",
       "      <td>2019-01-03 00:14:00</td>\n",
       "      <td>223 Jackson St, Boston, MA 02215</td>\n",
       "      <td>0</td>\n",
       "      <td>1</td>\n",
       "      <td>Boston MA</td>\n",
       "      <td>600.00</td>\n",
       "    </tr>\n",
       "    <tr>\n",
       "      <th>154</th>\n",
       "      <td>141384</td>\n",
       "      <td>USB-C Charging Cable</td>\n",
       "      <td>1</td>\n",
       "      <td>11.95</td>\n",
       "      <td>2019-01-03 00:14:00</td>\n",
       "      <td>223 Jackson St, Boston, MA 02215</td>\n",
       "      <td>0</td>\n",
       "      <td>1</td>\n",
       "      <td>Boston MA</td>\n",
       "      <td>11.95</td>\n",
       "    </tr>\n",
       "    <tr>\n",
       "      <th>220</th>\n",
       "      <td>141450</td>\n",
       "      <td>Google Phone</td>\n",
       "      <td>1</td>\n",
       "      <td>600.00</td>\n",
       "      <td>2019-01-12 11:16:00</td>\n",
       "      <td>521 Park St, San Francisco, CA 94016</td>\n",
       "      <td>11</td>\n",
       "      <td>1</td>\n",
       "      <td>San Francisco CA</td>\n",
       "      <td>600.00</td>\n",
       "    </tr>\n",
       "    <tr>\n",
       "      <th>221</th>\n",
       "      <td>141450</td>\n",
       "      <td>Bose SoundSport Headphones</td>\n",
       "      <td>1</td>\n",
       "      <td>99.99</td>\n",
       "      <td>2019-01-12 11:16:00</td>\n",
       "      <td>521 Park St, San Francisco, CA 94016</td>\n",
       "      <td>11</td>\n",
       "      <td>1</td>\n",
       "      <td>San Francisco CA</td>\n",
       "      <td>99.99</td>\n",
       "    </tr>\n",
       "  </tbody>\n",
       "</table>\n",
       "</div>"
      ],
      "text/plain": [
       "    Order ID                     Product  Quantity Ordered  Price Each  \\\n",
       "41    141275        USB-C Charging Cable                 1       11.95   \n",
       "42    141275            Wired Headphones                 1       11.99   \n",
       "57    141290    Apple Airpods Headphones                 1      150.00   \n",
       "58    141290       AA Batteries (4-pack)                 3        3.84   \n",
       "133   141365             Vareebadd Phone                 1      400.00   \n",
       "134   141365            Wired Headphones                 1       11.99   \n",
       "153   141384                Google Phone                 1      600.00   \n",
       "154   141384        USB-C Charging Cable                 1       11.95   \n",
       "220   141450                Google Phone                 1      600.00   \n",
       "221   141450  Bose SoundSport Headphones                 1       99.99   \n",
       "\n",
       "             Order Date                        Purchase Address  Hour  Month  \\\n",
       "41  2019-01-07 16:06:00         610 Walnut St, Austin, TX 73301    16      1   \n",
       "42  2019-01-07 16:06:00         610 Walnut St, Austin, TX 73301    16      1   \n",
       "57  2019-01-02 08:25:00         4 1st St, Los Angeles, CA 90001     8      1   \n",
       "58  2019-01-02 08:25:00         4 1st St, Los Angeles, CA 90001     8      1   \n",
       "133 2019-01-10 11:19:00  20 Dogwood St, New York City, NY 10001    11      1   \n",
       "134 2019-01-10 11:19:00  20 Dogwood St, New York City, NY 10001    11      1   \n",
       "153 2019-01-03 00:14:00        223 Jackson St, Boston, MA 02215     0      1   \n",
       "154 2019-01-03 00:14:00        223 Jackson St, Boston, MA 02215     0      1   \n",
       "220 2019-01-12 11:16:00    521 Park St, San Francisco, CA 94016    11      1   \n",
       "221 2019-01-12 11:16:00    521 Park St, San Francisco, CA 94016    11      1   \n",
       "\n",
       "                  City   Sales  \n",
       "41           Austin TX   11.95  \n",
       "42           Austin TX   11.99  \n",
       "57      Los Angeles CA  150.00  \n",
       "58      Los Angeles CA   11.52  \n",
       "133   New York City NY  400.00  \n",
       "134   New York City NY   11.99  \n",
       "153          Boston MA  600.00  \n",
       "154          Boston MA   11.95  \n",
       "220   San Francisco CA  600.00  \n",
       "221   San Francisco CA   99.99  "
      ]
     },
     "execution_count": 65,
     "metadata": {},
     "output_type": "execute_result"
    }
   ],
   "source": [
    "# Create New Data Frame containig only Multiple Products with Same Order ID.\n",
    "order = df[df['Order ID'].duplicated(keep = False)] \n",
    "order.head(10)"
   ]
  },
  {
   "cell_type": "code",
   "execution_count": 66,
   "id": "5b8f34ea",
   "metadata": {},
   "outputs": [
    {
     "data": {
      "text/html": [
       "<div>\n",
       "<style scoped>\n",
       "    .dataframe tbody tr th:only-of-type {\n",
       "        vertical-align: middle;\n",
       "    }\n",
       "\n",
       "    .dataframe tbody tr th {\n",
       "        vertical-align: top;\n",
       "    }\n",
       "\n",
       "    .dataframe thead th {\n",
       "        text-align: right;\n",
       "    }\n",
       "</style>\n",
       "<table border=\"1\" class=\"dataframe\">\n",
       "  <thead>\n",
       "    <tr style=\"text-align: right;\">\n",
       "      <th></th>\n",
       "      <th>Order ID</th>\n",
       "      <th>Ordered Together</th>\n",
       "    </tr>\n",
       "  </thead>\n",
       "  <tbody>\n",
       "    <tr>\n",
       "      <th>41</th>\n",
       "      <td>141275</td>\n",
       "      <td>USB-C Charging Cable,Wired Headphones</td>\n",
       "    </tr>\n",
       "    <tr>\n",
       "      <th>57</th>\n",
       "      <td>141290</td>\n",
       "      <td>Apple Airpods Headphones,AA Batteries (4-pack)</td>\n",
       "    </tr>\n",
       "    <tr>\n",
       "      <th>133</th>\n",
       "      <td>141365</td>\n",
       "      <td>Vareebadd Phone,Wired Headphones</td>\n",
       "    </tr>\n",
       "    <tr>\n",
       "      <th>153</th>\n",
       "      <td>141384</td>\n",
       "      <td>Google Phone,USB-C Charging Cable</td>\n",
       "    </tr>\n",
       "    <tr>\n",
       "      <th>220</th>\n",
       "      <td>141450</td>\n",
       "      <td>Google Phone,Bose SoundSport Headphones</td>\n",
       "    </tr>\n",
       "    <tr>\n",
       "      <th>228</th>\n",
       "      <td>141457</td>\n",
       "      <td>iPhone,Apple Airpods Headphones</td>\n",
       "    </tr>\n",
       "    <tr>\n",
       "      <th>250</th>\n",
       "      <td>141478</td>\n",
       "      <td>Google Phone,Apple Airpods Headphones</td>\n",
       "    </tr>\n",
       "    <tr>\n",
       "      <th>323</th>\n",
       "      <td>141550</td>\n",
       "      <td>iPhone,Apple Airpods Headphones,Wired Headphones</td>\n",
       "    </tr>\n",
       "    <tr>\n",
       "      <th>362</th>\n",
       "      <td>141587</td>\n",
       "      <td>USB-C Charging Cable,Apple Airpods Headphones</td>\n",
       "    </tr>\n",
       "    <tr>\n",
       "      <th>421</th>\n",
       "      <td>141645</td>\n",
       "      <td>Lightning Charging Cable,Wired Headphones</td>\n",
       "    </tr>\n",
       "  </tbody>\n",
       "</table>\n",
       "</div>"
      ],
      "text/plain": [
       "    Order ID                                  Ordered Together\n",
       "41    141275             USB-C Charging Cable,Wired Headphones\n",
       "57    141290    Apple Airpods Headphones,AA Batteries (4-pack)\n",
       "133   141365                  Vareebadd Phone,Wired Headphones\n",
       "153   141384                 Google Phone,USB-C Charging Cable\n",
       "220   141450           Google Phone,Bose SoundSport Headphones\n",
       "228   141457                   iPhone,Apple Airpods Headphones\n",
       "250   141478             Google Phone,Apple Airpods Headphones\n",
       "323   141550  iPhone,Apple Airpods Headphones,Wired Headphones\n",
       "362   141587     USB-C Charging Cable,Apple Airpods Headphones\n",
       "421   141645         Lightning Charging Cable,Wired Headphones"
      ]
     },
     "execution_count": 66,
     "metadata": {},
     "output_type": "execute_result"
    }
   ],
   "source": [
    "order['Ordered Together'] = order.groupby('Order ID')['Product'].transform(lambda x : ','.join(x))\n",
    "order = order[['Order ID','Ordered Together']].drop_duplicates()\n",
    "order.head(10)"
   ]
  },
  {
   "cell_type": "code",
   "execution_count": 67,
   "id": "050c64eb",
   "metadata": {},
   "outputs": [
    {
     "name": "stdout",
     "output_type": "stream",
     "text": [
      "('iPhone', 'Lightning Charging Cable') 1002\n",
      "('Google Phone', 'USB-C Charging Cable') 985\n",
      "('iPhone', 'Wired Headphones') 447\n",
      "('Google Phone', 'Wired Headphones') 413\n",
      "('Vareebadd Phone', 'USB-C Charging Cable') 361\n",
      "('iPhone', 'Apple Airpods Headphones') 360\n",
      "('Google Phone', 'Bose SoundSport Headphones') 220\n",
      "('USB-C Charging Cable', 'Wired Headphones') 159\n",
      "('Vareebadd Phone', 'Wired Headphones') 143\n",
      "('Lightning Charging Cable', 'Wired Headphones') 92\n"
     ]
    }
   ],
   "source": [
    "from itertools import combinations\n",
    "from collections import Counter \n",
    "\n",
    "count = Counter()\n",
    "\n",
    "for row in order['Ordered Together']:\n",
    "    items = row.split(',')\n",
    "    count.update(Counter(combinations(items,2))) # Most Common Pair of Products Bought Together.\n",
    "\n",
    "for key, value in count.most_common(10): # Top 10 Products Pair Bought Together.\n",
    "    print(key,value)"
   ]
  },
  {
   "cell_type": "markdown",
   "id": "ab32dedc",
   "metadata": {},
   "source": [
    "Based on the Group of Items Bought Together, Offers can be Provided to Attract more Customers.\n",
    "e.g. If a Person Buy Iphone, Discount Offers on Lightning Charging Cable."
   ]
  },
  {
   "cell_type": "markdown",
   "id": "233f99d1",
   "metadata": {},
   "source": [
    "**Overall Summary**"
   ]
  },
  {
   "cell_type": "markdown",
   "id": "ce27ef0e",
   "metadata": {},
   "source": [
    "San francisco has highest no. of sales.\n",
    "In december there is highest no. of sales.\n",
    "Max product sold between in Noon.\n",
    "iphone, Airphone,headphone should be sold together with discount for maximum sales."
   ]
  },
  {
   "cell_type": "code",
   "execution_count": null,
   "id": "f45e7897",
   "metadata": {},
   "outputs": [],
   "source": []
  },
  {
   "cell_type": "code",
   "execution_count": null,
   "id": "73ef7dec",
   "metadata": {},
   "outputs": [],
   "source": []
  },
  {
   "cell_type": "code",
   "execution_count": null,
   "id": "4bbd8afd",
   "metadata": {},
   "outputs": [],
   "source": []
  },
  {
   "cell_type": "code",
   "execution_count": null,
   "id": "92c459d7",
   "metadata": {},
   "outputs": [],
   "source": []
  },
  {
   "cell_type": "code",
   "execution_count": null,
   "id": "82d611b4",
   "metadata": {},
   "outputs": [],
   "source": []
  }
 ],
 "metadata": {
  "kernelspec": {
   "display_name": "Python 3",
   "language": "python",
   "name": "python3"
  },
  "language_info": {
   "codemirror_mode": {
    "name": "ipython",
    "version": 3
   },
   "file_extension": ".py",
   "mimetype": "text/x-python",
   "name": "python",
   "nbconvert_exporter": "python",
   "pygments_lexer": "ipython3",
   "version": "3.8.8"
  }
 },
 "nbformat": 4,
 "nbformat_minor": 5
}
